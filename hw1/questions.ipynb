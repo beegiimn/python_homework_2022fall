{
 "cells": [
  {
   "cell_type": "markdown",
   "metadata": {},
   "source": [
    "First homework"
   ]
  },
  {
   "cell_type": "code",
   "execution_count": 16,
   "metadata": {},
   "outputs": [
    {
     "name": "stdout",
     "output_type": "stream",
     "text": [
      "The sum of 1.5 and 6.3 is 7.8\n"
     ]
    }
   ],
   "source": [
    "# This program adds two numbers\n",
    "\n",
    "num1 = 1.5\n",
    "num2 = 6.3\n",
    "\n",
    "# Add two numbers\n",
    "sum = num1 + num2\n",
    "\n",
    "# Display the sum\n",
    "print('The sum of {0} and {1} is {2}'.format(num1, num2, sum))"
   ]
  },
  {
   "cell_type": "markdown",
   "metadata": {},
   "source": [
    "Second question"
   ]
  },
  {
   "cell_type": "code",
   "execution_count": 55,
   "metadata": {},
   "outputs": [
    {
     "data": {
      "image/png": "[encoded data removed]",
      "text/plain": [
       "<Figure size 432x288 with 1 Axes>"
      ]
     },
     "metadata": {
      "needs_background": "light"
     },
     "output_type": "display_data"
    }
   ],
   "source": [
    "# This program finds the minimum number \n",
    "\n",
    "import pylab\n",
    "import random\n",
    "random.seed(1)\n",
    "samples = 100\n",
    "dice = []\n",
    "for i in range(samples):\n",
    "    total = 0.5**random.randint(0,1) \n",
    "    dice.append(total)\n",
    "pylab.hist(dice, bins=pylab.arange(0,6,0.3))\n",
    "pylab.show()\n"
   ]
  },
  {
   "cell_type": "code",
   "execution_count": 57,
   "metadata": {},
   "outputs": [
    {
     "name": "stdout",
     "output_type": "stream",
     "text": [
      "probability is set to  0.5\n",
      "Tails = 0, Heads = 1:  [1 1 1 1 1 1 1 0 1 0 0 1 1 1 0 0 0 0 1 1 1 1 1 1 1 0 0 1 1 1 1 1 0 1 0 1 1\n",
      " 1 1 1 0 1 0 1 0 1 0 1 0 1 1 1 0 1 1 0 1 0 1 1 1 1 1 1 0 0 1 1 1 0 1 0 1 1\n",
      " 1 1 1 0 1 0 0 1 1 0 1 0 1 0 0 1 1 0 1 1 1 0 1 0 1 1 0 0 1 1 1 0 1 1 0 1 1\n",
      " 1 1 1 0 1 0 1 0 0 1 0 1 1 1 0 1 1 0 1 0 1 0 0 1 1 1 1 1 0 1 1 0 0 1 0 1 1\n",
      " 1 1 0 1 0 0 1 0 0 0 1 0 1 0 0 1 1 0 1 1 1 1 0 1 1 0 1 1 1 1 0 1 0 1 1 0 1\n",
      " 1 0 1 0 1 1 1 0 0 1 1 0 1 1 0 1 0 0 1 1 1 1 0 0 1 0 0 0 1 1 1 1 1 0 0 1 1\n",
      " 1 1 0 1 0 1 1 0 0 1 0 1 0 1 1 0 0 1 1 1 0 1 1 1 1 0 1 0 1 0 0 0 0 0 0 0 1\n",
      " 1 0 0 1 1 0 0 1 1 1 1 1 0 0 1 1 1 0 1 1 1 1 1 1 0 0 1 1 0 1 0 1 1 1 0 1 0\n",
      " 0 1 0 1 0 1 0 1 0 1 1 0 1 0 0 1 0 0 1 0 1 0 0 1 0 1 0 0 1 0 0 1 0 1 1 0 1\n",
      " 1 0 1 1 0 1 0 0 1 0 0 1 1 0 1 0 0 1 0 0 0 1 1 1 0 0 0 0 0 0 1 0 1 0 1 0 1\n",
      " 1 1 0 1 0 0 1 0 1 1 0 0 0 1 1 0 1 1 1 0 1 1 1 1 0 1 1 0 0 1 0 0 0 1 1 1 0\n",
      " 0 0 1 0 0 0 0 1 1 0 1 0 0 1 1 1 1 0 1 1 1 0 0 0 1 1 1 0 0 1 1 0 1 1 1 0 1\n",
      " 0 1 0 0 0 1 1 1 1 0 1 0 0 0 1 0 0 0 1 1 1 1 1 0 1 0 0 1 1 1 0 0 0 1 1 1 1\n",
      " 0 1 1 1 0 1 0 0 1 0 1 1 0 0 1 0 1 1 0 0 0 1 1 0 0 1 0 1 0 0 0 0 1 0 1 1 0\n",
      " 1 1 0 1 0 1 0 1 0 1 1 1 1 1 1 0 1 1 0 0 0 0 0 1 0 0 1 1 1 0 0 0 1 0 1 0 1\n",
      " 1 1 0 0 0 1 1 0 0 0 0 1 0 0 1 1 1 0 0 0 1 0 0 1 1 0 1 1 0 0 1 1 0 1 0 0 1\n",
      " 0 0 0 1 1 0 0 1 1 0 1 1 0 1 1 1 0 1 1 0 1 1 0 1 1 0 0 0 1 0 1 1 1 1 0 0 1\n",
      " 0 0 0 0 1 1 1 0 1 0 0 1 0 1 0 0 1 0 1 1 0 0 0 1 1 1 1 0 0 1 1 0 0 0 1 1 1\n",
      " 0 1 1 0 0 1 0 0 1 0 1 0 1 0 0 0 1 1 1 0 0 1 1 1 1 1 0 1 0 1 0 1 1 0 0 1 0\n",
      " 0 1 0 0 0 1 0 1 0 0 0 0 1 1 1 0 1 0 0 0 0 1 0 0 0 0 0 0 0 0 0 1 1 1 0 0 1\n",
      " 0 1 1 0 0 1 0 0 1 0 1 1 0 0 0 0 0 0 1 0 1 1 1 0 0 1 1 1 0 0 1 0 1 1 0 0 0\n",
      " 0 1 0 1 0 1 1 1 1 1 1 1 1 0 1 1 0 1 1 0 1 1 0 1 0 0 1 0 1 1 1 0 0 0 0 0 0\n",
      " 0 0 1 1 1 0 1 1 0 1 1 0 0 0 0 1 1 1 0 1 0 0 0 0 1 0 0 0 1 1 1 0 0 0 0 0 1\n",
      " 0 0 1 1 0 1 1 1 1 1 0 1 1 1 0 1 0 1 1 1 1 1 0 1 1 1 0 0 0 0 0 0 0 1 1 1 0\n",
      " 1 1 1 0 1 0 0 1 1 0 0 1 0 1 1 0 1 1 1 0 1 1 0 1 1 1 1 1 1 1 0 1 1 1 0 0 0\n",
      " 1 1 1 1 1 0 0 0 0 0 1 0 1 0 1 1 0 1 0 0 0 0 1 0 1 0 1 0 0 0 1 1 1 0 0 1 1\n",
      " 0 1 1 1 0 1 1 0 1 1 1 1 0 0 1 1 0 1 0 0 0 1 1 0 1 1 0 0 0 1 0 1 0 1 1 0 0\n",
      " 1]\n",
      "Head Count:  540\n",
      "Tail Count:  460\n"
     ]
    }
   ],
   "source": [
    "import numpy as np\n",
    "def coinFlip(p):    \n",
    "    #perform the binomial distribution (returns 0 or 1)    \n",
    "    result = np.random.binomial(1,p)\n",
    "#return flip to be added to numpy array    \n",
    "    return result\n",
    "'''Main Area'''\n",
    "#probability of heads vs. tails. This can be changed.\n",
    "probability = .5\n",
    "#num of flips required. This can be changed.\n",
    "n = 1000\n",
    "#initiate array\n",
    "fullResults = np.arange(n)\n",
    "#perform desired numbered of flips at required probability set above\n",
    "for i in range(0, n):    \n",
    "    fullResults[i] = coinFlip(probability)    \n",
    "    i+=1\n",
    "#print results\n",
    "print(\"probability is set to \", probability)\n",
    "print(\"Tails = 0, Heads = 1: \", fullResults)\n",
    "#Total up heads and tails for easy user experience \n",
    "print(\"Head Count: \", np.count_nonzero(fullResults == 1))\n",
    "print(\"Tail Count: \", np.count_nonzero(fullResults == 0))"
   ]
  },
  {
   "cell_type": "code",
   "execution_count": 58,
   "metadata": {},
   "outputs": [],
   "source": [
    "import numpy as np\n",
    "import pandas as pd\n",
    "import random\n",
    "import matplotlib.pyplot as plt \n",
    "np.random.seed(42)"
   ]
  },
  {
   "cell_type": "code",
   "execution_count": 67,
   "metadata": {},
   "outputs": [
    {
     "data": {
      "text/plain": [
       "1"
      ]
     },
     "execution_count": 67,
     "metadata": {},
     "output_type": "execute_result"
    }
   ],
   "source": [
    "n=1\n",
    "p=0.5\n",
    "np.random.binomial(n,p)\n"
   ]
  },
  {
   "cell_type": "code",
   "execution_count": 81,
   "metadata": {},
   "outputs": [
    {
     "data": {
      "text/plain": [
       "4952"
      ]
     },
     "execution_count": 81,
     "metadata": {},
     "output_type": "execute_result"
    }
   ],
   "source": [
    "# set the seed to get same random numer\n",
    "np.random.seed(42)\n",
    "n = 1000\n",
    "p = 0.5\n",
    "np.random.binomial(n, p)"
   ]
  },
  {
   "cell_type": "code",
   "execution_count": 79,
   "metadata": {},
   "outputs": [
    {
     "data": {
      "text/plain": [
       "array([4, 8, 6, ..., 6, 5, 5])"
      ]
     },
     "execution_count": 79,
     "metadata": {},
     "output_type": "execute_result"
    }
   ],
   "source": [
    "np.random.seed(42)\n",
    "n=10\n",
    "p=0.5\n",
    "# let us repeat our experiment for 100 times\n",
    "size=1000\n",
    "x=np.random.binomial(n=n, p=p, size=size)\n",
    "x"
   ]
  },
  {
   "cell_type": "code",
   "execution_count": 73,
   "metadata": {},
   "outputs": [
    {
     "data": {
      "text/plain": [
       "[0, 1, 5, 16, 23, 21, 19, 9, 6, 0]"
      ]
     },
     "execution_count": 73,
     "metadata": {},
     "output_type": "execute_result"
    }
   ],
   "source": [
    "[np.equal(x,i).sum() for i in range(n)]"
   ]
  },
  {
   "cell_type": "code",
   "execution_count": 77,
   "metadata": {},
   "outputs": [
    {
     "name": "stdout",
     "output_type": "stream",
     "text": [
      "[0.0, 0.01, 0.05, 0.16, 0.23, 0.21, 0.19, 0.09, 0.06, 0.0]\n"
     ]
    }
   ],
   "source": [
    "probs_100 = [np.equal(x,i).mean() for i in range(n)]\n",
    "print(probs_100)"
   ]
  },
  {
   "cell_type": "markdown",
   "metadata": {},
   "source": [
    "Problem Set 1"
   ]
  },
  {
   "cell_type": "markdown",
   "metadata": {},
   "source": [
    "Labor market statistics. (SW 2.1-2.3) The following table gives the joint probability distribution between employment status and college graduation among those\n",
    "either employed or looking for work (unemployed) in the working-age U.S. population\n",
    "for 2012."
   ]
  },
  {
   "cell_type": "markdown",
   "metadata": {},
   "source": [
    "![](ProblemSet1.png)"
   ]
  },
  {
   "cell_type": "code",
   "execution_count": 22,
   "metadata": {},
   "outputs": [
    {
     "name": "stdout",
     "output_type": "stream",
     "text": [
      "0.9319999999999999\n"
     ]
    }
   ],
   "source": [
    "# a) Compute \"E(Y)\"\n",
    "\n",
    "x0y0 = 0.053\n",
    "x0y1 = 0.586\n",
    "x1y0 = 0.015\n",
    "x1y1 = 0.346\n",
    "\n",
    "ey = x0y0*0 + x0y1*1 + x1y0*0 + x1y1*1\n",
    "\n",
    "print (ey)\n"
   ]
  },
  {
   "cell_type": "code",
   "execution_count": 24,
   "metadata": {},
   "outputs": [
    {
     "name": "stdout",
     "output_type": "stream",
     "text": [
      "0.068\n"
     ]
    }
   ],
   "source": [
    "# b) unemployment rate\n",
    "\n",
    "UnemploymentRate= x0y0 + x1y0\n",
    "\n",
    "print (UnemploymentRate)"
   ]
  },
  {
   "cell_type": "code",
   "execution_count": 27,
   "metadata": {},
   "outputs": [],
   "source": [
    "# c) 1-E[Y]"
   ]
  },
  {
   "cell_type": "code",
   "execution_count": 25,
   "metadata": {},
   "outputs": [
    {
     "name": "stdout",
     "output_type": "stream",
     "text": [
      "0.346\n"
     ]
    }
   ],
   "source": [
    "# d) Calculate E[Y|X = 1] (rounding to the nearest thousandth)\n",
    "\n",
    "answer = x1y0*0+ x1y1*1\n",
    "print(answer)"
   ]
  },
  {
   "cell_type": "code",
   "execution_count": 26,
   "metadata": {},
   "outputs": [
    {
     "name": "stdout",
     "output_type": "stream",
     "text": [
      "0.586\n"
     ]
    }
   ],
   "source": [
    "# e) Calculate E[Y|X = 0] (rounding to the nearest thousandth)\n",
    "\n",
    "answer = x0y0 * 0 + x0y1*1\n",
    "print(answer)"
   ]
  },
  {
   "cell_type": "code",
   "execution_count": 41,
   "metadata": {},
   "outputs": [
    {
     "name": "stdout",
     "output_type": "stream",
     "text": [
      "0.042\n"
     ]
    }
   ],
   "source": [
    "# f) Calculate the unemployment rate for college graduates (rounding to the nearest thousandth).\n",
    "\n",
    "answer = x1y0/((x1y0 + x1y1))\n",
    "print(round(answer, 3))"
   ]
  },
  {
   "cell_type": "code",
   "execution_count": 43,
   "metadata": {},
   "outputs": [
    {
     "name": "stdout",
     "output_type": "stream",
     "text": [
      "0.083\n"
     ]
    }
   ],
   "source": [
    "# g) Calculate the unemployment rate for non-college graduates (rounding to the nearest thousandth)\n",
    "\n",
    "answer = x0y0/((x0y0 + x0y1))\n",
    "print(round(answer, 3))"
   ]
  },
  {
   "cell_type": "code",
   "execution_count": null,
   "metadata": {},
   "outputs": [],
   "source": []
  }
 ],
 "metadata": {
  "kernelspec": {
   "display_name": "Python 3.9.12 ('base')",
   "language": "python",
   "name": "python3"
  },
  "language_info": {
   "codemirror_mode": {
    "name": "ipython",
    "version": 3
   },
   "file_extension": ".py",
   "mimetype": "text/x-python",
   "name": "python",
   "nbconvert_exporter": "python",
   "pygments_lexer": "ipython3",
   "version": "3.9.12"
  },
  "orig_nbformat": 4,
  "vscode": {
   "interpreter": {
    "hash": "ad2bdc8ecc057115af97d19610ffacc2b4e99fae6737bb82f5d7fb13d2f2c186"
   }
  }
 },
 "nbformat": 4,
 "nbformat_minor": 2
}
